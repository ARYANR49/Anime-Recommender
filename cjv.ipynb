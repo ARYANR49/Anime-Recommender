{
 "cells": [
  {
   "cell_type": "code",
   "execution_count": 1,
   "id": "76378021",
   "metadata": {},
   "outputs": [
    {
     "name": "stdout",
     "output_type": "stream",
     "text": [
      "❌ FAISS index was not created.\n"
     ]
    }
   ],
   "source": [
    "import sys\n",
    "import os\n",
    "\n",
    "# Step 1: Add project root to Python path\n",
    "sys.path.append(os.getcwd())\n",
    "\n",
    "# Step 2: Import VectorStoreBuilder\n",
    "from src.vector_store import VectorStoreBuilder\n",
    "\n",
    "# Step 3: Create FAISS index\n",
    "csv_path = \"anime_updated.csv\"\n",
    "persist_dir = \"FAISS_index\"\n",
    "\n",
    "# Check that CSV exists\n",
    "if not os.path.exists(csv_path):\n",
    "    raise FileNotFoundError(f\"❌ CSV not found at: {csv_path}\")\n",
    "\n",
    "vs = VectorStoreBuilder(csv_path=csv_path, persist_dir=persist_dir)\n",
    "vs.build_and_save_vectorstore()\n",
    "\n",
    "# Check if FAISS index was created\n",
    "expected_faiss_file = os.path.join(persist_dir, \"index.faiss\")\n",
    "if os.path.exists(expected_faiss_file):\n",
    "    print(f\"✅ FAISS index successfully saved to: {persist_dir}\")\n",
    "else:\n",
    "    print(\"❌ FAISS index was not created.\")"
   ]
  },
  {
   "cell_type": "code",
   "execution_count": 2,
   "id": "8ba7c21c",
   "metadata": {},
   "outputs": [
    {
     "name": "stdout",
     "output_type": "stream",
     "text": [
      "✅ FAISS index successfully saved to: FAISS_index\n",
      "Files: [\"model_name='all-MiniLM-L6-v2' cache_folder=None model_kwargs={} encode_kwargs={} multi_process=False show_progress=False.faiss\"]\n"
     ]
    }
   ],
   "source": [
    "# ✅ Check if ANY .faiss file exists in the persist_dir\n",
    "faiss_files = [f for f in os.listdir(persist_dir) if f.endswith(\".faiss\")]\n",
    "\n",
    "if faiss_files:\n",
    "    print(f\"✅ FAISS index successfully saved to: {persist_dir}\")\n",
    "    print(\"Files:\", faiss_files)\n",
    "else:\n",
    "    print(\"❌ FAISS index was not created.\")\n"
   ]
  }
 ],
 "metadata": {
  "kernelspec": {
   "display_name": "base",
   "language": "python",
   "name": "python3"
  },
  "language_info": {
   "codemirror_mode": {
    "name": "ipython",
    "version": 3
   },
   "file_extension": ".py",
   "mimetype": "text/x-python",
   "name": "python",
   "nbconvert_exporter": "python",
   "pygments_lexer": "ipython3",
   "version": "3.12.4"
  }
 },
 "nbformat": 4,
 "nbformat_minor": 5
}
